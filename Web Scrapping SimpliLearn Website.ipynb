{
 "cells": [
  {
   "cell_type": "markdown",
   "id": "395d19c9",
   "metadata": {},
   "source": [
    "# Trending Python Modules "
   ]
  },
  {
   "cell_type": "code",
   "execution_count": 1,
   "id": "8d6aebf0",
   "metadata": {},
   "outputs": [],
   "source": [
    "from bs4 import BeautifulSoup\n",
    "import requests\n",
    "import pandas as pd"
   ]
  },
  {
   "cell_type": "code",
   "execution_count": 2,
   "id": "149cb863",
   "metadata": {},
   "outputs": [],
   "source": [
    "source = requests.get('https://www.simplilearn.com/top-python-libraries-for-data-science-article')\n",
    "\n",
    "soup = BeautifulSoup(source.text, 'html.parser')"
   ]
  },
  {
   "cell_type": "markdown",
   "id": "e80f7876",
   "metadata": {},
   "source": [
    "# Top 20 Python Modules"
   ]
  },
  {
   "cell_type": "code",
   "execution_count": 3,
   "id": "d0b8ba71",
   "metadata": {},
   "outputs": [
    {
     "data": {
      "text/plain": [
       "[<li aria-level=\"1\">TensorFlow</li>,\n",
       " <li aria-level=\"1\">NumPy</li>,\n",
       " <li aria-level=\"1\">SciPyÂ </li>,\n",
       " <li aria-level=\"1\">Pandas</li>,\n",
       " <li aria-level=\"1\">MatplotlibÂ </li>,\n",
       " <li aria-level=\"1\">Keras</li>,\n",
       " <li aria-level=\"1\">SciKit-Learn</li>,\n",
       " <li aria-level=\"1\">PyTorch</li>,\n",
       " <li aria-level=\"1\">Scrapy</li>,\n",
       " <li aria-level=\"1\">BeautifulSoup</li>,\n",
       " <li aria-level=\"1\">LightGBM</li>,\n",
       " <li aria-level=\"1\">ELI5</li>,\n",
       " <li aria-level=\"1\">Theano</li>,\n",
       " <li aria-level=\"1\">NuPIC</li>,\n",
       " <li aria-level=\"1\">Ramp</li>,\n",
       " <li aria-level=\"1\">Pipenv</li>,\n",
       " <li aria-level=\"1\">Bob</li>,\n",
       " <li aria-level=\"1\">PyBrain</li>,\n",
       " <li aria-level=\"1\">Caffe2</li>,\n",
       " <li aria-level=\"1\">Chainer</li>]"
      ]
     },
     "execution_count": 3,
     "metadata": {},
     "output_type": "execute_result"
    }
   ],
   "source": [
    "movies = soup.find('article').find('ul').find_all('li')\n",
    "movies"
   ]
  },
  {
   "cell_type": "code",
   "execution_count": 4,
   "id": "c48e1a96",
   "metadata": {},
   "outputs": [
    {
     "data": {
      "text/plain": [
       "{'TensorFlow': 1,\n",
       " 'NumPy': 2,\n",
       " 'SciPyÂ\\xa0': 3,\n",
       " 'Pandas': 4,\n",
       " 'MatplotlibÂ\\xa0': 5,\n",
       " 'Keras': 6,\n",
       " 'SciKit-Learn': 7,\n",
       " 'PyTorch': 8,\n",
       " 'Scrapy': 9,\n",
       " 'BeautifulSoup': 10,\n",
       " 'LightGBM': 11,\n",
       " 'ELI5': 12,\n",
       " 'Theano': 13,\n",
       " 'NuPIC': 14,\n",
       " 'Ramp': 15,\n",
       " 'Pipenv': 16,\n",
       " 'Bob': 17,\n",
       " 'PyBrain': 18,\n",
       " 'Caffe2': 19,\n",
       " 'Chainer': 20}"
      ]
     },
     "execution_count": 4,
     "metadata": {},
     "output_type": "execute_result"
    }
   ],
   "source": [
    "counter = 1\n",
    "top20_modules = {}\n",
    "key = []\n",
    "value = []\n",
    "for movie in movies:\n",
    "    key.append(counter)\n",
    "    value.append(movie.get_text())\n",
    "    counter += 1\n",
    "        \n",
    "top20_modules =dict(zip(value, key))\n",
    "top20_modules"
   ]
  },
  {
   "cell_type": "code",
   "execution_count": 5,
   "id": "8c683337",
   "metadata": {},
   "outputs": [
    {
     "data": {
      "text/html": [
       "<div>\n",
       "<style scoped>\n",
       "    .dataframe tbody tr th:only-of-type {\n",
       "        vertical-align: middle;\n",
       "    }\n",
       "\n",
       "    .dataframe tbody tr th {\n",
       "        vertical-align: top;\n",
       "    }\n",
       "\n",
       "    .dataframe thead th {\n",
       "        text-align: right;\n",
       "    }\n",
       "</style>\n",
       "<table border=\"1\" class=\"dataframe\">\n",
       "  <thead>\n",
       "    <tr style=\"text-align: right;\">\n",
       "      <th></th>\n",
       "      <th>Python Module</th>\n",
       "      <th>Rank</th>\n",
       "    </tr>\n",
       "  </thead>\n",
       "  <tbody>\n",
       "    <tr>\n",
       "      <th>0</th>\n",
       "      <td>TensorFlow</td>\n",
       "      <td>1</td>\n",
       "    </tr>\n",
       "    <tr>\n",
       "      <th>1</th>\n",
       "      <td>NumPy</td>\n",
       "      <td>2</td>\n",
       "    </tr>\n",
       "    <tr>\n",
       "      <th>2</th>\n",
       "      <td>SciPyÂ</td>\n",
       "      <td>3</td>\n",
       "    </tr>\n",
       "    <tr>\n",
       "      <th>3</th>\n",
       "      <td>Pandas</td>\n",
       "      <td>4</td>\n",
       "    </tr>\n",
       "    <tr>\n",
       "      <th>4</th>\n",
       "      <td>MatplotlibÂ</td>\n",
       "      <td>5</td>\n",
       "    </tr>\n",
       "    <tr>\n",
       "      <th>5</th>\n",
       "      <td>Keras</td>\n",
       "      <td>6</td>\n",
       "    </tr>\n",
       "    <tr>\n",
       "      <th>6</th>\n",
       "      <td>SciKit-Learn</td>\n",
       "      <td>7</td>\n",
       "    </tr>\n",
       "    <tr>\n",
       "      <th>7</th>\n",
       "      <td>PyTorch</td>\n",
       "      <td>8</td>\n",
       "    </tr>\n",
       "    <tr>\n",
       "      <th>8</th>\n",
       "      <td>Scrapy</td>\n",
       "      <td>9</td>\n",
       "    </tr>\n",
       "    <tr>\n",
       "      <th>9</th>\n",
       "      <td>BeautifulSoup</td>\n",
       "      <td>10</td>\n",
       "    </tr>\n",
       "    <tr>\n",
       "      <th>10</th>\n",
       "      <td>LightGBM</td>\n",
       "      <td>11</td>\n",
       "    </tr>\n",
       "    <tr>\n",
       "      <th>11</th>\n",
       "      <td>ELI5</td>\n",
       "      <td>12</td>\n",
       "    </tr>\n",
       "    <tr>\n",
       "      <th>12</th>\n",
       "      <td>Theano</td>\n",
       "      <td>13</td>\n",
       "    </tr>\n",
       "    <tr>\n",
       "      <th>13</th>\n",
       "      <td>NuPIC</td>\n",
       "      <td>14</td>\n",
       "    </tr>\n",
       "    <tr>\n",
       "      <th>14</th>\n",
       "      <td>Ramp</td>\n",
       "      <td>15</td>\n",
       "    </tr>\n",
       "    <tr>\n",
       "      <th>15</th>\n",
       "      <td>Pipenv</td>\n",
       "      <td>16</td>\n",
       "    </tr>\n",
       "    <tr>\n",
       "      <th>16</th>\n",
       "      <td>Bob</td>\n",
       "      <td>17</td>\n",
       "    </tr>\n",
       "    <tr>\n",
       "      <th>17</th>\n",
       "      <td>PyBrain</td>\n",
       "      <td>18</td>\n",
       "    </tr>\n",
       "    <tr>\n",
       "      <th>18</th>\n",
       "      <td>Caffe2</td>\n",
       "      <td>19</td>\n",
       "    </tr>\n",
       "    <tr>\n",
       "      <th>19</th>\n",
       "      <td>Chainer</td>\n",
       "      <td>20</td>\n",
       "    </tr>\n",
       "  </tbody>\n",
       "</table>\n",
       "</div>"
      ],
      "text/plain": [
       "    Python Module  Rank\n",
       "0      TensorFlow     1\n",
       "1           NumPy     2\n",
       "2         SciPyÂ      3\n",
       "3          Pandas     4\n",
       "4    MatplotlibÂ      5\n",
       "5           Keras     6\n",
       "6    SciKit-Learn     7\n",
       "7         PyTorch     8\n",
       "8          Scrapy     9\n",
       "9   BeautifulSoup    10\n",
       "10       LightGBM    11\n",
       "11           ELI5    12\n",
       "12         Theano    13\n",
       "13          NuPIC    14\n",
       "14           Ramp    15\n",
       "15         Pipenv    16\n",
       "16            Bob    17\n",
       "17        PyBrain    18\n",
       "18         Caffe2    19\n",
       "19        Chainer    20"
      ]
     },
     "execution_count": 5,
     "metadata": {},
     "output_type": "execute_result"
    }
   ],
   "source": [
    "#dataframe = pd.DataFrame({'Module_Name': value, 'Rank':key})\n",
    "dataframe = pd.DataFrame(list(top20_modules.items()), columns = ['Python Module', 'Rank'])\n",
    "dataframe"
   ]
  },
  {
   "cell_type": "code",
   "execution_count": 6,
   "id": "992e66c4",
   "metadata": {},
   "outputs": [
    {
     "data": {
      "text/plain": [
       "Python Module    object\n",
       "Rank              int64\n",
       "dtype: object"
      ]
     },
     "execution_count": 6,
     "metadata": {},
     "output_type": "execute_result"
    }
   ],
   "source": [
    "dataframe.dtypes"
   ]
  },
  {
   "cell_type": "markdown",
   "id": "f3a0f37d",
   "metadata": {},
   "source": [
    "# Brief Details for Top 5 Modules"
   ]
  },
  {
   "cell_type": "code",
   "execution_count": 7,
   "id": "8cc368aa",
   "metadata": {},
   "outputs": [
    {
     "data": {
      "text/plain": [
       "[<ul>\n",
       " <li aria-level=\"1\">Better computational graph visualizations</li>\n",
       " <li aria-level=\"1\">Reduces error by 50 to 60 percent in neural machine learning</li>\n",
       " <li aria-level=\"1\">Parallel computing to execute complex models</li>\n",
       " <li aria-level=\"1\">Seamless library management backed by Google</li>\n",
       " <li aria-level=\"1\">Quicker updates and frequent new releases to provide you with the latest featuresÂ </li>\n",
       " </ul>,\n",
       " <ul>\n",
       " <li aria-level=\"1\">Speech and image recognitionÂ </li>\n",
       " <li aria-level=\"1\">Text-based applicationsÂ </li>\n",
       " <li aria-level=\"1\"><a href=\"https://www.simplilearn.com/tutorials/python-tutorial/time-series-analysis-in-python\" rel=\"noopener\" target=\"_blank\" title=\"Time-series analysis\">Time-series analysis</a></li>\n",
       " <li aria-level=\"1\">Video detection</li>\n",
       " </ul>,\n",
       " <ul>\n",
       " <li aria-level=\"1\">Collection of algorithms and functions built on the NumPy extension of Python</li>\n",
       " <li aria-level=\"1\">High-level commands for <a href=\"https://www.simplilearn.com/data-visualization-article\" rel=\"noopener\" target=\"_blank\" title=\"data manipulation and visualization\">data manipulation and visualization</a>\n",
       " </li>\n",
       " <li aria-level=\"1\">Multidimensional image processing with the SciPy ndimage submodule</li>\n",
       " <li aria-level=\"1\">Includes built-in functions for solving differential equations</li>\n",
       " </ul>,\n",
       " <ul>\n",
       " <li aria-level=\"1\">Multidimensional image operations</li>\n",
       " <li aria-level=\"1\">Solving differential equations and the Fourier transform</li>\n",
       " <li aria-level=\"1\">Optimization algorithms</li>\n",
       " <li aria-level=\"1\">Linear algebra</li>\n",
       " </ul>,\n",
       " <ul>\n",
       " <li aria-level=\"1\">Provides fast, precompiled functions for numerical routines</li>\n",
       " <li aria-level=\"1\">Array-oriented computing for better efficiency</li>\n",
       " <li aria-level=\"1\">Supports an object-oriented approach</li>\n",
       " <li aria-level=\"1\">Compact and faster computations with vectorization</li>\n",
       " </ul>,\n",
       " <ul>\n",
       " <li aria-level=\"1\">Extensively used in data analysisÂ </li>\n",
       " <li aria-level=\"1\">Creates powerful N-dimensional array</li>\n",
       " <li aria-level=\"1\">Forms the base of other libraries, such as SciPy and <a href=\"https://www.simplilearn.com/tutorials/scikit-learn-tutorial/what-is-scikit-learn-and-how-to-install-it\" rel=\"noopener\" target=\"_blank\" title=\"scikit-learn\">scikit-learn</a>\n",
       " </li>\n",
       " <li aria-level=\"1\">Replacement of MATLAB when used with SciPy and matplotlib</li>\n",
       " </ul>,\n",
       " <ul>\n",
       " <li aria-level=\"1\">Eloquent syntax and rich functionalities that gives you the freedom to deal with missing data</li>\n",
       " <li aria-level=\"1\">Enables you to create your own function and run it across a series of data</li>\n",
       " <li aria-level=\"1\">High-level abstraction</li>\n",
       " <li aria-level=\"1\">Contains high-level data structures and manipulation tools</li>\n",
       " </ul>,\n",
       " <ul>\n",
       " <li aria-level=\"1\">General <a href=\"https://www.simplilearn.com/data-wrangling-article\" rel=\"noopener\" target=\"_blank\" title=\"data wrangling\">data wrangling</a> and <a href=\"https://www.simplilearn.com/data-cleaning-why-and-how-to-get-started-article\" rel=\"noopener\" target=\"_blank\" title=\"data cleaning\">data cleaning</a>\n",
       " </li>\n",
       " <li aria-level=\"1\">ETL (extract, transform, load) jobs for data transformation and data storage, as it has excellent support for loading CSV files into its data frame format</li>\n",
       " <li aria-level=\"1\">Used in a variety of academic and commercial areas, including statistics, finance and neuroscienceÂ </li>\n",
       " <li aria-level=\"1\">Time-series-specific functionality, such as date range generation, moving window, linear regression and date shifting.</li>\n",
       " </ul>,\n",
       " <ul>\n",
       " <li aria-level=\"1\">Usable as a MATLAB replacement, with the advantage of being free and open sourceÂ </li>\n",
       " <li aria-level=\"1\">Supports dozens of backends and output types, which means you can use it regardless of which operating system youâre using or which output format you wish to use</li>\n",
       " <li aria-level=\"1\">Pandas itself can be used as wrappers around MATLAB API to drive MATLAB like a cleaner</li>\n",
       " <li aria-level=\"1\">Low memory consumption and better runtime behavior</li>\n",
       " </ul>,\n",
       " <ul>\n",
       " <li aria-level=\"1\">Correlation analysis of variables</li>\n",
       " <li aria-level=\"1\">Visualize 95 percent confidence intervals of the models</li>\n",
       " <li aria-level=\"1\">Outlier detection using a scatter plot etc.</li>\n",
       " <li aria-level=\"1\">Visualize the distribution of data to gain instant insights</li>\n",
       " </ul>]"
      ]
     },
     "execution_count": 7,
     "metadata": {},
     "output_type": "execute_result"
    }
   ],
   "source": [
    "content_tag = soup.find_all('article')[1].find_all('ul')[1:11]\n",
    "content_tag"
   ]
  },
  {
   "cell_type": "code",
   "execution_count": 8,
   "id": "a79edc08",
   "metadata": {},
   "outputs": [],
   "source": [
    "features = []\n",
    "applications = []\n",
    "for i in range(0, len(content_tag)-1, 2):\n",
    "    features.append(content_tag[i].text.rstrip().replace('\\n','. '))\n",
    "for i in range(1, len(content_tag), 2):\n",
    "    applications.append(content_tag[i].text.rstrip().replace('\\n','. '))\n"
   ]
  },
  {
   "cell_type": "code",
   "execution_count": 9,
   "id": "ec26103d",
   "metadata": {},
   "outputs": [
    {
     "data": {
      "text/plain": [
       "'. Better computational graph visualizations. Reduces error by 50 to 60 percent in neural machine learning. Parallel computing to execute complex models. Seamless library management backed by Google. Quicker updates and frequent new releases to provide you with the latest featuresÂ'"
      ]
     },
     "execution_count": 9,
     "metadata": {},
     "output_type": "execute_result"
    }
   ],
   "source": [
    "features[0]"
   ]
  },
  {
   "cell_type": "code",
   "execution_count": 10,
   "id": "77f7be7e",
   "metadata": {},
   "outputs": [
    {
     "data": {
      "text/plain": [
       "'. Speech and image recognitionÂ\\xa0. Text-based applicationsÂ\\xa0. Time-series analysis. Video detection'"
      ]
     },
     "execution_count": 10,
     "metadata": {},
     "output_type": "execute_result"
    }
   ],
   "source": [
    "applications[0]"
   ]
  },
  {
   "cell_type": "code",
   "execution_count": 11,
   "id": "e469ba87",
   "metadata": {},
   "outputs": [
    {
     "data": {
      "text/plain": [
       "'. Usable as a MATLAB replacement, with the advantage of being free and open sourceÂ\\xa0. Supports dozens of backends and output types, which means you can use it regardless of which operating system youâ\\x80\\x99re using or which output format you wish to use. Pandas itself can be used as wrappers around MATLAB API to drive MATLAB like a cleaner. Low memory consumption and better runtime behavior'"
      ]
     },
     "execution_count": 11,
     "metadata": {},
     "output_type": "execute_result"
    }
   ],
   "source": [
    "features[-1]"
   ]
  },
  {
   "cell_type": "code",
   "execution_count": 12,
   "id": "5bc98a43",
   "metadata": {},
   "outputs": [
    {
     "data": {
      "text/plain": [
       "'. Correlation analysis of variables. Visualize 95 percent confidence intervals of the models. Outlier detection using a scatter plot etc.. Visualize the distribution of data to gain instant insights'"
      ]
     },
     "execution_count": 12,
     "metadata": {},
     "output_type": "execute_result"
    }
   ],
   "source": [
    "applications[-1]"
   ]
  },
  {
   "cell_type": "code",
   "execution_count": 13,
   "id": "1fa3df4d",
   "metadata": {},
   "outputs": [
    {
     "data": {
      "text/plain": [
       "([1, 2, 3, 4, 5],\n",
       " ['TensorFlow', 'NumPy', 'SciPyÂ\\xa0', 'Pandas', 'MatplotlibÂ\\xa0'])"
      ]
     },
     "execution_count": 13,
     "metadata": {},
     "output_type": "execute_result"
    }
   ],
   "source": [
    "key = key[0:5]\n",
    "value = value[0:5]\n",
    "\n",
    "key, value"
   ]
  },
  {
   "cell_type": "code",
   "execution_count": 14,
   "id": "323e3792",
   "metadata": {},
   "outputs": [
    {
     "data": {
      "text/html": [
       "<div>\n",
       "<style scoped>\n",
       "    .dataframe tbody tr th:only-of-type {\n",
       "        vertical-align: middle;\n",
       "    }\n",
       "\n",
       "    .dataframe tbody tr th {\n",
       "        vertical-align: top;\n",
       "    }\n",
       "\n",
       "    .dataframe thead th {\n",
       "        text-align: right;\n",
       "    }\n",
       "</style>\n",
       "<table border=\"1\" class=\"dataframe\">\n",
       "  <thead>\n",
       "    <tr style=\"text-align: right;\">\n",
       "      <th></th>\n",
       "      <th>Module_Name</th>\n",
       "      <th>Rank</th>\n",
       "      <th>Features</th>\n",
       "      <th>Applications</th>\n",
       "    </tr>\n",
       "  </thead>\n",
       "  <tbody>\n",
       "    <tr>\n",
       "      <th>0</th>\n",
       "      <td>TensorFlow</td>\n",
       "      <td>1</td>\n",
       "      <td>. Better computational graph visualizations. R...</td>\n",
       "      <td>. Speech and image recognitionÂ . Text-based a...</td>\n",
       "    </tr>\n",
       "    <tr>\n",
       "      <th>1</th>\n",
       "      <td>NumPy</td>\n",
       "      <td>2</td>\n",
       "      <td>. Collection of algorithms and functions built...</td>\n",
       "      <td>. Multidimensional image operations. Solving d...</td>\n",
       "    </tr>\n",
       "    <tr>\n",
       "      <th>2</th>\n",
       "      <td>SciPyÂ</td>\n",
       "      <td>3</td>\n",
       "      <td>. Provides fast, precompiled functions for num...</td>\n",
       "      <td>. Extensively used in data analysisÂ . Creates...</td>\n",
       "    </tr>\n",
       "    <tr>\n",
       "      <th>3</th>\n",
       "      <td>Pandas</td>\n",
       "      <td>4</td>\n",
       "      <td>. Eloquent syntax and rich functionalities tha...</td>\n",
       "      <td>. General data wrangling and data cleaning. . ...</td>\n",
       "    </tr>\n",
       "    <tr>\n",
       "      <th>4</th>\n",
       "      <td>MatplotlibÂ</td>\n",
       "      <td>5</td>\n",
       "      <td>. Usable as a MATLAB replacement, with the adv...</td>\n",
       "      <td>. Correlation analysis of variables. Visualize...</td>\n",
       "    </tr>\n",
       "  </tbody>\n",
       "</table>\n",
       "</div>"
      ],
      "text/plain": [
       "    Module_Name  Rank                                           Features  \\\n",
       "0    TensorFlow     1  . Better computational graph visualizations. R...   \n",
       "1         NumPy     2  . Collection of algorithms and functions built...   \n",
       "2       SciPyÂ      3  . Provides fast, precompiled functions for num...   \n",
       "3        Pandas     4  . Eloquent syntax and rich functionalities tha...   \n",
       "4  MatplotlibÂ      5  . Usable as a MATLAB replacement, with the adv...   \n",
       "\n",
       "                                        Applications  \n",
       "0  . Speech and image recognitionÂ . Text-based a...  \n",
       "1  . Multidimensional image operations. Solving d...  \n",
       "2  . Extensively used in data analysisÂ . Creates...  \n",
       "3  . General data wrangling and data cleaning. . ...  \n",
       "4  . Correlation analysis of variables. Visualize...  "
      ]
     },
     "execution_count": 14,
     "metadata": {},
     "output_type": "execute_result"
    }
   ],
   "source": [
    "df = pd.DataFrame({'Module_Name':value, 'Rank':key, 'Features':features, 'Applications':applications})\n",
    "df"
   ]
  },
  {
   "cell_type": "code",
   "execution_count": 15,
   "id": "4c3f7361",
   "metadata": {},
   "outputs": [
    {
     "data": {
      "text/plain": [
       "Module_Name     object\n",
       "Rank             int64\n",
       "Features        object\n",
       "Applications    object\n",
       "dtype: object"
      ]
     },
     "execution_count": 15,
     "metadata": {},
     "output_type": "execute_result"
    }
   ],
   "source": [
    "df.dtypes"
   ]
  }
 ],
 "metadata": {
  "kernelspec": {
   "display_name": "Python 3 (ipykernel)",
   "language": "python",
   "name": "python3"
  },
  "language_info": {
   "codemirror_mode": {
    "name": "ipython",
    "version": 3
   },
   "file_extension": ".py",
   "mimetype": "text/x-python",
   "name": "python",
   "nbconvert_exporter": "python",
   "pygments_lexer": "ipython3",
   "version": "3.8.10"
  }
 },
 "nbformat": 4,
 "nbformat_minor": 5
}
